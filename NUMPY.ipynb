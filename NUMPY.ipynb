{
 "cells": [
  {
   "cell_type": "code",
   "execution_count": 5,
   "id": "8e401a78",
   "metadata": {},
   "outputs": [],
   "source": [
    "#we import numpy when working with arrays that contain number values\n",
    "import numpy as np"
   ]
  },
  {
   "cell_type": "code",
   "execution_count": 6,
   "id": "f9443ea1",
   "metadata": {},
   "outputs": [
    {
     "name": "stdout",
     "output_type": "stream",
     "text": [
      "<class 'list'>\n",
      "[1, 2, 3, 4, 5, 6]\n"
     ]
    }
   ],
   "source": [
    "myList = [1,2,3,4,5,6]\n",
    "print(type(myList))\n",
    "print(myList)"
   ]
  },
  {
   "cell_type": "code",
   "execution_count": 7,
   "id": "30ce1dd4",
   "metadata": {},
   "outputs": [],
   "source": [
    "#to change a list into an array you do the following\n",
    "quortors = np.array(myList)"
   ]
  },
  {
   "cell_type": "code",
   "execution_count": 8,
   "id": "86cc6aa9",
   "metadata": {},
   "outputs": [
    {
     "name": "stdout",
     "output_type": "stream",
     "text": [
      "[1 2 3 4 5 6]\n"
     ]
    }
   ],
   "source": [
    "print(quortors)"
   ]
  },
  {
   "cell_type": "code",
   "execution_count": 9,
   "id": "d629e42b",
   "metadata": {},
   "outputs": [
    {
     "data": {
      "text/plain": [
       "array([[1, 2, 3],\n",
       "       [4, 5, 6],\n",
       "       [7, 8, 9]])"
      ]
     },
     "execution_count": 9,
     "metadata": {},
     "output_type": "execute_result"
    }
   ],
   "source": [
    "#2D array is a 2 dimension array\n",
    "#first we have created a list and then changed the list in an array\n",
    "#we did this by referencing the \"np.array function\" and pass the variable the2D into that function\n",
    "the2D = [[1,2,3],[4,5,6],[7,8,9]]\n",
    "\n",
    "my2D = np.array(the2D)\n",
    "\n",
    "my2D"
   ]
  },
  {
   "cell_type": "code",
   "execution_count": 10,
   "id": "c165fd30",
   "metadata": {},
   "outputs": [
    {
     "data": {
      "text/plain": [
       "(3, 3)"
      ]
     },
     "execution_count": 10,
     "metadata": {},
     "output_type": "execute_result"
    }
   ],
   "source": [
    "my2D.shape"
   ]
  },
  {
   "cell_type": "code",
   "execution_count": 11,
   "id": "ead1c08c",
   "metadata": {},
   "outputs": [
    {
     "data": {
      "text/plain": [
       "array([ 0,  2,  4,  6,  8, 10])"
      ]
     },
     "execution_count": 11,
     "metadata": {},
     "output_type": "execute_result"
    }
   ],
   "source": [
    "#when we call in arange. 11 wont be called in. 2 is the step size. 0+2 2+2 4+2 6+2 8+2\n",
    "#press shist tab to understand the brackets\n",
    "np.arange(0,11,2)"
   ]
  },
  {
   "cell_type": "code",
   "execution_count": 12,
   "id": "c1e66f94",
   "metadata": {},
   "outputs": [
    {
     "data": {
      "text/plain": [
       "array([[0., 0., 0., 0., 0., 0., 0., 0., 0., 0.],\n",
       "       [0., 0., 0., 0., 0., 0., 0., 0., 0., 0.],\n",
       "       [0., 0., 0., 0., 0., 0., 0., 0., 0., 0.],\n",
       "       [0., 0., 0., 0., 0., 0., 0., 0., 0., 0.]])"
      ]
     },
     "execution_count": 12,
     "metadata": {},
     "output_type": "execute_result"
    }
   ],
   "source": [
    "#dummy values\n",
    "np.zeros((4,10))"
   ]
  },
  {
   "cell_type": "code",
   "execution_count": 13,
   "id": "f717edfd",
   "metadata": {},
   "outputs": [
    {
     "data": {
      "text/plain": [
       "(4, 10)"
      ]
     },
     "execution_count": 13,
     "metadata": {},
     "output_type": "execute_result"
    }
   ],
   "source": [
    "dummy  = np.zeros((4,10))\n",
    "dummy.shape"
   ]
  },
  {
   "cell_type": "code",
   "execution_count": 14,
   "id": "85f9d491",
   "metadata": {},
   "outputs": [
    {
     "data": {
      "text/plain": [
       "array([[0., 0., 0., 0., 0., 0., 0., 0., 0., 0.],\n",
       "       [0., 0., 0., 0., 0., 0., 0., 0., 0., 0.],\n",
       "       [0., 0., 0., 0., 0., 0., 0., 0., 0., 0.],\n",
       "       [0., 0., 0., 0., 0., 0., 0., 0., 0., 0.]])"
      ]
     },
     "execution_count": 14,
     "metadata": {},
     "output_type": "execute_result"
    }
   ],
   "source": [
    "#10 items in the row\n",
    "#4 items in the column\n",
    "dummy"
   ]
  },
  {
   "cell_type": "code",
   "execution_count": 15,
   "id": "669b7298",
   "metadata": {},
   "outputs": [
    {
     "data": {
      "text/plain": [
       "array([[1., 1., 1., 1., 1.],\n",
       "       [1., 1., 1., 1., 1.],\n",
       "       [1., 1., 1., 1., 1.],\n",
       "       [1., 1., 1., 1., 1.],\n",
       "       [1., 1., 1., 1., 1.]])"
      ]
     },
     "execution_count": 15,
     "metadata": {},
     "output_type": "execute_result"
    }
   ],
   "source": [
    "#a dummy can be of zeros or ones\n",
    "np.ones((5,5))"
   ]
  },
  {
   "cell_type": "code",
   "execution_count": 16,
   "id": "8fd9b9b5",
   "metadata": {},
   "outputs": [
    {
     "data": {
      "text/plain": [
       "array([60., 60., 60., 60.])"
      ]
     },
     "execution_count": 16,
     "metadata": {},
     "output_type": "execute_result"
    }
   ],
   "source": [
    "#one dimension array\n",
    "#one dimension you ony need a pair of brackets else two pairs\n",
    "np.ones(4) * 60"
   ]
  },
  {
   "cell_type": "code",
   "execution_count": 17,
   "id": "ccddf055",
   "metadata": {},
   "outputs": [
    {
     "data": {
      "text/plain": [
       "array([ 0. ,  2.5,  5. ,  7.5, 10. ])"
      ]
     },
     "execution_count": 17,
     "metadata": {},
     "output_type": "execute_result"
    }
   ],
   "source": [
    "#linearly spaced arrays return numbers over a specified interval\n",
    "#zero is the start, ten is the stop\n",
    "#there are three numbers that are eavenly spaced\n",
    "#run this code and share the screenshot => np.linespace(0,10,20) now ask for 100 and 11\n",
    "#check the length of the arrat => len(np.linspace(0,10,20)\n",
    "\n",
    "np.linspace(0,10,5)"
   ]
  },
  {
   "cell_type": "code",
   "execution_count": 18,
   "id": "c0c2cc71",
   "metadata": {},
   "outputs": [
    {
     "name": "stdout",
     "output_type": "stream",
     "text": [
      "20\n"
     ]
    }
   ],
   "source": [
    "dummy2 = np.linspace(0,10,20)\n",
    "          \n",
    "print(len(dummy2))"
   ]
  },
  {
   "cell_type": "code",
   "execution_count": 19,
   "id": "762c3ec6",
   "metadata": {},
   "outputs": [
    {
     "data": {
      "text/plain": [
       "array([0.89421062])"
      ]
     },
     "execution_count": 19,
     "metadata": {},
     "output_type": "execute_result"
    }
   ],
   "source": [
    "#to generate random numbers in a given matrix/shape\n",
    "#can be 1D or 2D\n",
    "#numbers btw 0-1\n",
    "np.random.rand(1)"
   ]
  },
  {
   "cell_type": "code",
   "execution_count": 20,
   "id": "70957c54",
   "metadata": {},
   "outputs": [
    {
     "data": {
      "text/plain": [
       "array([[0.36074427, 0.66583817, 0.47189289, 0.99254124, 0.13194956],\n",
       "       [0.13321863, 0.17234698, 0.79076859, 0.40202366, 0.40218513],\n",
       "       [0.55496164, 0.00866872, 0.88921192, 0.16012989, 0.94405613],\n",
       "       [0.96474505, 0.1578715 , 0.15930137, 0.9094632 , 0.34451003],\n",
       "       [0.99586348, 0.50125303, 0.75089779, 0.87911479, 0.01196576]])"
      ]
     },
     "execution_count": 20,
     "metadata": {},
     "output_type": "execute_result"
    }
   ],
   "source": [
    "np.random.rand(5,5)"
   ]
  },
  {
   "cell_type": "code",
   "execution_count": 21,
   "id": "f21ec429",
   "metadata": {},
   "outputs": [
    {
     "data": {
      "text/plain": [
       "array([72,  8, 42, 87, 49,  6, 81, 65, 60, 14])"
      ]
     },
     "execution_count": 21,
     "metadata": {},
     "output_type": "execute_result"
    }
   ],
   "source": [
    "#int in this case has come in because we want whole numbers\n",
    "np.random.randint(1,100,10)"
   ]
  },
  {
   "cell_type": "code",
   "execution_count": 22,
   "id": "75aeebd8",
   "metadata": {},
   "outputs": [
    {
     "data": {
      "text/plain": [
       "array([87, 79, 10, 19, 70, 58, 85, 10, 84, 81])"
      ]
     },
     "execution_count": 22,
     "metadata": {},
     "output_type": "execute_result"
    }
   ],
   "source": [
    "valueMinMax = np.random.randint(1,100,10)\n",
    "\n",
    "\n",
    "\n",
    "\n",
    "valueMinMax"
   ]
  },
  {
   "cell_type": "code",
   "execution_count": 23,
   "id": "b6d68027",
   "metadata": {},
   "outputs": [
    {
     "data": {
      "text/plain": [
       "10"
      ]
     },
     "execution_count": 23,
     "metadata": {},
     "output_type": "execute_result"
    }
   ],
   "source": [
    "valueMinMax.min()"
   ]
  },
  {
   "cell_type": "code",
   "execution_count": 24,
   "id": "42bdcf16",
   "metadata": {},
   "outputs": [
    {
     "data": {
      "text/plain": [
       "87"
      ]
     },
     "execution_count": 24,
     "metadata": {},
     "output_type": "execute_result"
    }
   ],
   "source": [
    "valueMinMax.max()"
   ]
  },
  {
   "cell_type": "code",
   "execution_count": 25,
   "id": "aba3f7f8",
   "metadata": {},
   "outputs": [
    {
     "data": {
      "text/plain": [
       "2"
      ]
     },
     "execution_count": 25,
     "metadata": {},
     "output_type": "execute_result"
    }
   ],
   "source": [
    "#this will give us the index location of the minimum value\n",
    "#arg stands for arguement\n",
    "valueMinMax.argmin()"
   ]
  },
  {
   "cell_type": "code",
   "execution_count": 26,
   "id": "4b7bbe77",
   "metadata": {},
   "outputs": [
    {
     "data": {
      "text/plain": [
       "0"
      ]
     },
     "execution_count": 26,
     "metadata": {},
     "output_type": "execute_result"
    }
   ],
   "source": [
    "#this will give us the index location of the maximum value\n",
    "valueMinMax.argmax()"
   ]
  },
  {
   "cell_type": "code",
   "execution_count": 29,
   "id": "776e3144",
   "metadata": {},
   "outputs": [
    {
     "name": "stdout",
     "output_type": "stream",
     "text": [
      "[1 2 3]\n"
     ]
    }
   ],
   "source": [
    "#this is how you replace something in an array\n",
    "#arr = np.array([1,3,5,7])\n",
    "\n",
    "#search = np.searchsorted(arr,[2,4,6])\n",
    "\n",
    "#print(search)"
   ]
  },
  {
   "cell_type": "code",
   "execution_count": 30,
   "id": "97d82d70",
   "metadata": {},
   "outputs": [
    {
     "data": {
      "text/plain": [
       "array([0, 1, 3, 6, 7, 9])"
      ]
     },
     "execution_count": 30,
     "metadata": {},
     "output_type": "execute_result"
    }
   ],
   "source": [
    "#how to sort an array\n",
    "arr2 = np.array([3,1,0,7,6,9])\n",
    "np.sort(arr2)"
   ]
  },
  {
   "cell_type": "code",
   "execution_count": 32,
   "id": "a8d9f78a",
   "metadata": {},
   "outputs": [
    {
     "name": "stdout",
     "output_type": "stream",
     "text": [
      "[ 7  9 11 13 15]\n"
     ]
    }
   ],
   "source": [
    "#this is how you add arrays\n",
    "#the length in both arrays should be the same\n",
    "twiga = [1,2,3,4,5]\n",
    "hello = [6,7,8,9,10]\n",
    "\n",
    "sumTotal = np.add(twiga, hello)\n",
    "\n",
    "print(sumTotal)"
   ]
  },
  {
   "cell_type": "code",
   "execution_count": null,
   "id": "d565a325",
   "metadata": {},
   "outputs": [],
   "source": []
  }
 ],
 "metadata": {
  "kernelspec": {
   "display_name": "Python 3 (ipykernel)",
   "language": "python",
   "name": "python3"
  },
  "language_info": {
   "codemirror_mode": {
    "name": "ipython",
    "version": 3
   },
   "file_extension": ".py",
   "mimetype": "text/x-python",
   "name": "python",
   "nbconvert_exporter": "python",
   "pygments_lexer": "ipython3",
   "version": "3.9.12"
  }
 },
 "nbformat": 4,
 "nbformat_minor": 5
}
