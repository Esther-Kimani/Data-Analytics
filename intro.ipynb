{
 "cells": [
  {
   "cell_type": "code",
   "execution_count": 1,
   "id": "b9d7266f",
   "metadata": {},
   "outputs": [],
   "source": [
    "import sys"
   ]
  },
  {
   "cell_type": "code",
   "execution_count": 7,
   "id": "2e0b65f8",
   "metadata": {},
   "outputs": [],
   "source": [
    "import numpy as np"
   ]
  },
  {
   "cell_type": "code",
   "execution_count": 8,
   "id": "b09ec385",
   "metadata": {},
   "outputs": [],
   "source": [
    "kesho = np.array([1,2,3,5])"
   ]
  },
  {
   "cell_type": "code",
   "execution_count": 10,
   "id": "9c7b5fed",
   "metadata": {},
   "outputs": [
    {
     "name": "stdout",
     "output_type": "stream",
     "text": [
      "[1 2 3 5]\n"
     ]
    }
   ],
   "source": [
    "print(kesho)"
   ]
  },
  {
   "cell_type": "code",
   "execution_count": 18,
   "id": "c1ee846a",
   "metadata": {},
   "outputs": [],
   "source": [
    "myCheques = \"EQUITY\""
   ]
  },
  {
   "cell_type": "code",
   "execution_count": 19,
   "id": "1d216276",
   "metadata": {},
   "outputs": [
    {
     "name": "stdout",
     "output_type": "stream",
     "text": [
      "2000\n"
     ]
    }
   ],
   "source": [
    "#Variables hold data in memory that can be used later\n",
    "#Perform operations for addition\n",
    "theplace = 600\n",
    "CBD = 1400\n",
    "\n",
    "print(theplace + CBD)"
   ]
  },
  {
   "cell_type": "code",
   "execution_count": 20,
   "id": "feda0a95",
   "metadata": {},
   "outputs": [
    {
     "name": "stdout",
     "output_type": "stream",
     "text": [
      "Tomorrow we find out our next president\n"
     ]
    }
   ],
   "source": [
    "#the variable my string holds the sting Tomorrow we find out our next president\n",
    "#string function holds data that is in \"\" quotes\n",
    "#to get the output of the string we have to call the variable mystring inside a print function\n",
    "mystring = 'Tomorrow we find out our next president'\n",
    "\n",
    "print(mystring)"
   ]
  },
  {
   "cell_type": "code",
   "execution_count": 11,
   "id": "4bb4f036",
   "metadata": {},
   "outputs": [
    {
     "name": "stdout",
     "output_type": "stream",
     "text": [
      "15000\n",
      "30.67\n",
      "45000\n"
     ]
    }
   ],
   "source": [
    "yesterday,today,tomorrow = 15000,30.67,\"45000\"\n",
    "\n",
    "print(yesterday)\n",
    "print(today)\n",
    "print(tomorrow)"
   ]
  },
  {
   "cell_type": "code",
   "execution_count": 29,
   "id": "cd794bfa",
   "metadata": {},
   "outputs": [
    {
     "name": "stdout",
     "output_type": "stream",
     "text": [
      "15000 30.67 45000\n"
     ]
    }
   ],
   "source": [
    "print(yesterday,today,tomorrow)"
   ]
  },
  {
   "cell_type": "code",
   "execution_count": 22,
   "id": "e8aeda74",
   "metadata": {},
   "outputs": [
    {
     "name": "stdout",
     "output_type": "stream",
     "text": [
      "30.67\n"
     ]
    }
   ],
   "source": [
    "print(today)"
   ]
  },
  {
   "cell_type": "code",
   "execution_count": 23,
   "id": "c6f8e68b",
   "metadata": {},
   "outputs": [
    {
     "name": "stdout",
     "output_type": "stream",
     "text": [
      "<class 'float'>\n"
     ]
    }
   ],
   "source": [
    "#decimans are known as float\n",
    "print(type(today))"
   ]
  },
  {
   "cell_type": "code",
   "execution_count": 24,
   "id": "dc99a187",
   "metadata": {},
   "outputs": [
    {
     "name": "stdout",
     "output_type": "stream",
     "text": [
      "45000\n"
     ]
    }
   ],
   "source": [
    "print(tomorrow)"
   ]
  },
  {
   "cell_type": "code",
   "execution_count": 26,
   "id": "2e6410d3",
   "metadata": {},
   "outputs": [
    {
     "name": "stdout",
     "output_type": "stream",
     "text": [
      "<class 'str'>\n"
     ]
    }
   ],
   "source": [
    "#numerical data in quotes is still refered to as string\n",
    "print(type(tomorrow))"
   ]
  },
  {
   "cell_type": "code",
   "execution_count": 27,
   "id": "f8b65c6c",
   "metadata": {},
   "outputs": [],
   "source": [
    "x = 4500\n",
    "y = 5000\n"
   ]
  },
  {
   "cell_type": "code",
   "execution_count": 28,
   "id": "775dd0c8",
   "metadata": {},
   "outputs": [
    {
     "ename": "TypeError",
     "evalue": "unsupported operand type(s) for +: 'int' and 'str'",
     "output_type": "error",
     "traceback": [
      "\u001b[1;31m---------------------------------------------------------------------------\u001b[0m",
      "\u001b[1;31mTypeError\u001b[0m                                 Traceback (most recent call last)",
      "Input \u001b[1;32mIn [28]\u001b[0m, in \u001b[0;36m<cell line: 1>\u001b[1;34m()\u001b[0m\n\u001b[1;32m----> 1\u001b[0m \u001b[38;5;28mprint\u001b[39m(\u001b[43mx\u001b[49m\u001b[38;5;241;43m+\u001b[39;49m\u001b[43my\u001b[49m\u001b[38;5;241;43m+\u001b[39;49m\u001b[43mmyCheques\u001b[49m)\n",
      "\u001b[1;31mTypeError\u001b[0m: unsupported operand type(s) for +: 'int' and 'str'"
     ]
    }
   ],
   "source": [
    "#you cannot add an integer to a string as seen in the error below\n",
    "print(x+y+myCheques)"
   ]
  },
  {
   "cell_type": "code",
   "execution_count": 30,
   "id": "0f221332",
   "metadata": {},
   "outputs": [
    {
     "name": "stdout",
     "output_type": "stream",
     "text": [
      "9500\n"
     ]
    }
   ],
   "source": [
    "print(x+y)"
   ]
  },
  {
   "cell_type": "code",
   "execution_count": 31,
   "id": "e8687a74",
   "metadata": {},
   "outputs": [
    {
     "name": "stdout",
     "output_type": "stream",
     "text": [
      "UIT\n"
     ]
    }
   ],
   "source": [
    "#this is knows as string slicing\n",
    "#the point at which the slice selection stops is not necessarily selected but the one just before is\n",
    "print(myCheques[2:5])"
   ]
  },
  {
   "cell_type": "code",
   "execution_count": 36,
   "id": "76bb11fe",
   "metadata": {},
   "outputs": [
    {
     "name": "stdout",
     "output_type": "stream",
     "text": [
      "Equity\n"
     ]
    }
   ],
   "source": [
    "#A function in this case 'capitalize()' has been called in to perform a particular function\n",
    "#so as to change my string\n",
    "print(myCheques.capitalize())\n",
    "    "
   ]
  },
  {
   "cell_type": "code",
   "execution_count": 37,
   "id": "c5af39be",
   "metadata": {},
   "outputs": [],
   "source": [
    "myCaps = myCheques.capitalize()"
   ]
  },
  {
   "cell_type": "code",
   "execution_count": 38,
   "id": "2b3b4c4f",
   "metadata": {},
   "outputs": [
    {
     "name": "stdout",
     "output_type": "stream",
     "text": [
      "Equity\n"
     ]
    }
   ],
   "source": [
    "print(myCaps)"
   ]
  },
  {
   "cell_type": "code",
   "execution_count": 14,
   "id": "dfe6897f",
   "metadata": {},
   "outputs": [],
   "source": [
    "#this is an example of a list\n",
    "#a list must have square brackets [] and comas\n",
    "#lists are used to store multiple items\n",
    "\n",
    "shoppingList = [\"chicken\",\"bread\",\"milk\",\"water\",\"fruits\",\"cooking oil\",\"napkins\"]"
   ]
  },
  {
   "cell_type": "code",
   "execution_count": 15,
   "id": "6bfdef92",
   "metadata": {
    "scrolled": true
   },
   "outputs": [
    {
     "data": {
      "text/plain": [
       "['chicken', 'bread', 'milk', 'water', 'fruits', 'cooking oil', 'napkins']"
      ]
     },
     "execution_count": 15,
     "metadata": {},
     "output_type": "execute_result"
    }
   ],
   "source": [
    "shoppingList"
   ]
  },
  {
   "cell_type": "code",
   "execution_count": 16,
   "id": "07d634b6",
   "metadata": {},
   "outputs": [
    {
     "name": "stdout",
     "output_type": "stream",
     "text": [
      "<class 'list'>\n"
     ]
    }
   ],
   "source": [
    "print(type(shoppingList))"
   ]
  },
  {
   "cell_type": "code",
   "execution_count": 17,
   "id": "9f1de9b8",
   "metadata": {},
   "outputs": [
    {
     "name": "stdout",
     "output_type": "stream",
     "text": [
      "7\n"
     ]
    }
   ],
   "source": [
    "print(len(shoppingList))"
   ]
  },
  {
   "cell_type": "code",
   "execution_count": 18,
   "id": "1e190586",
   "metadata": {},
   "outputs": [
    {
     "name": "stdout",
     "output_type": "stream",
     "text": [
      "milk\n"
     ]
    }
   ],
   "source": [
    "#this command is for accessing the items inside a list\n",
    "\n",
    "print(shoppingList[2])"
   ]
  },
  {
   "cell_type": "code",
   "execution_count": 19,
   "id": "864e76e2",
   "metadata": {},
   "outputs": [
    {
     "name": "stdout",
     "output_type": "stream",
     "text": [
      "['milk', 'water', 'fruits', 'cooking oil']\n"
     ]
    }
   ],
   "source": [
    "#this command is done when returning a range of items inside a list.\n",
    "#very similar to string slicing but list slicing\n",
    "\n",
    "print(shoppingList[2:6])"
   ]
  },
  {
   "cell_type": "code",
   "execution_count": 26,
   "id": "14909d38",
   "metadata": {},
   "outputs": [
    {
     "name": "stdout",
     "output_type": "stream",
     "text": [
      "['milk', 'water', 'fruits', 'cooking oil', 'napkins', 'soap']\n"
     ]
    }
   ],
   "source": [
    "#this command is used when you want to return a list list of items from a specific number up until the last item\n",
    "\n",
    "\n",
    "print(shoppingList[2:])"
   ]
  },
  {
   "cell_type": "code",
   "execution_count": 34,
   "id": "71a1535d",
   "metadata": {},
   "outputs": [
    {
     "name": "stdout",
     "output_type": "stream",
     "text": [
      "['chicken', 'soda', 'milk', 'water', 'fruits', 'cooking oil', 'napkins', 'soap', 'soap', 'flour', 'flour']\n"
     ]
    }
   ],
   "source": [
    "#when changing an item that is inside a list, you have to reference the index location. \n",
    "#In this case [1]. Then asign a new value to it\n",
    "shoppingList[1] = \"soda\"\n",
    "\n",
    "print(shoppingList)"
   ]
  },
  {
   "cell_type": "code",
   "execution_count": 50,
   "id": "b914743d",
   "metadata": {},
   "outputs": [],
   "source": [
    "#this command is used to add on to an already existing list\n",
    "#The more times it is run the more it adds the repeated item(s)\n",
    "shoppingList.append(\"flour\")"
   ]
  },
  {
   "cell_type": "code",
   "execution_count": 39,
   "id": "f1156827",
   "metadata": {},
   "outputs": [
    {
     "name": "stdout",
     "output_type": "stream",
     "text": [
      "['chicken', 'soda', 'milk', 'water', 'fruits', 'cooking oil', 'napkins', 'soap', 'soap', 'flour', 'flour', 'flour', 'flour', 'flour']\n"
     ]
    }
   ],
   "source": [
    "print(shoppingList)"
   ]
  },
  {
   "cell_type": "code",
   "execution_count": 51,
   "id": "2d2cfa33",
   "metadata": {},
   "outputs": [],
   "source": [
    "#this command is used to remove items from an already existing list. \n",
    "#The more times it is run the more it removes the repeated item(s)\n",
    "shoppingList.remove(\"flour\")"
   ]
  },
  {
   "cell_type": "code",
   "execution_count": 47,
   "id": "cb940432",
   "metadata": {},
   "outputs": [
    {
     "name": "stdout",
     "output_type": "stream",
     "text": [
      "['chicken', 'soda', 'milk', 'water', 'fruits', 'cooking oil', 'napkins', 'soap', 'soap', 'flour']\n"
     ]
    }
   ],
   "source": [
    "print(shoppingList)"
   ]
  },
  {
   "cell_type": "code",
   "execution_count": 48,
   "id": "890719b7",
   "metadata": {},
   "outputs": [],
   "source": [
    "shoppingList.remove(\"soap\")"
   ]
  },
  {
   "cell_type": "code",
   "execution_count": 49,
   "id": "e3258944",
   "metadata": {},
   "outputs": [
    {
     "name": "stdout",
     "output_type": "stream",
     "text": [
      "['chicken', 'soda', 'milk', 'water', 'fruits', 'cooking oil', 'napkins', 'soap', 'flour']\n"
     ]
    }
   ],
   "source": [
    "print(shoppingList)"
   ]
  },
  {
   "cell_type": "code",
   "execution_count": 64,
   "id": "fa637d56",
   "metadata": {},
   "outputs": [
    {
     "name": "stdout",
     "output_type": "stream",
     "text": [
      "chicken\n",
      "soda\n",
      "milk\n",
      "water\n",
      "fruits\n",
      "cooking oil\n",
      "napkins\n",
      "soap\n",
      "flour\n"
     ]
    }
   ],
   "source": [
    "#the for loop command is used to check vakues inside a list. One by one, until a certain condition is met\n",
    "\n",
    "for myList in range(len(shoppingList)):\n",
    "    print(shoppingList[myList])"
   ]
  },
  {
   "cell_type": "code",
   "execution_count": 65,
   "id": "d6ba3cfa",
   "metadata": {},
   "outputs": [
    {
     "name": "stdout",
     "output_type": "stream",
     "text": [
      "yes\n"
     ]
    }
   ],
   "source": [
    "#the if command is used when you want to prove is something is true or false\n",
    "if \"soda\" in shoppingList:\n",
    "    print(\"yes\")m"
   ]
  },
  {
   "cell_type": "code",
   "execution_count": 66,
   "id": "75fc4337",
   "metadata": {},
   "outputs": [],
   "source": [
    "#Kiwi did not print because it is not part of the list. It has not met the condition\n",
    "if \"kiwi\" in shoppingList:\n",
    "    print(\"yes\")"
   ]
  },
  {
   "cell_type": "code",
   "execution_count": 63,
   "id": "15cdd8f4",
   "metadata": {},
   "outputs": [
    {
     "name": "stdout",
     "output_type": "stream",
     "text": [
      "chicken\n",
      "soda\n",
      "milk\n",
      "water\n",
      "fruits\n",
      "cooking oil\n",
      "napkins\n"
     ]
    }
   ],
   "source": [
    "#two equals are used to compare to things. In this case myList to the napkins\n",
    "#breaking is used to stop the for loop(checking one by one)\n",
    "#for loop is used to check one by one items in the list, if is used to check is something is there and break to stop\n",
    "\n",
    "for myList in shoppingList:\n",
    "    print(myList)\n",
    "    if myList == \"napkins\":\n",
    "        break"
   ]
  },
  {
   "cell_type": "code",
   "execution_count": 67,
   "id": "f7022c13",
   "metadata": {},
   "outputs": [
    {
     "name": "stdout",
     "output_type": "stream",
     "text": [
      "['chicken', 'cooking oil', 'flour', 'fruits', 'milk', 'napkins', 'soap', 'soda', 'water']\n"
     ]
    }
   ],
   "source": [
    "#the sort command is used to arrange items in order of alphabet or numbers\n",
    "#where there are numbers they wioll be considered else the alphabet\n",
    "shoppingList.sort()\n",
    "print(shoppingList)"
   ]
  },
  {
   "cell_type": "code",
   "execution_count": 68,
   "id": "44e57ea7",
   "metadata": {},
   "outputs": [
    {
     "name": "stdout",
     "output_type": "stream",
     "text": [
      "['water', 'soda', 'soap', 'napkins', 'milk', 'fruits', 'flour', 'cooking oil', 'chicken']\n"
     ]
    }
   ],
   "source": [
    "#if you want to sort from last to first\n",
    "shoppingList.sort(reverse= True)\n",
    "print(shoppingList)"
   ]
  },
  {
   "cell_type": "code",
   "execution_count": 70,
   "id": "fdc2278a",
   "metadata": {},
   "outputs": [
    {
     "name": "stdout",
     "output_type": "stream",
     "text": [
      "[20, 30, 40, 50, 60, 'A', 'E', 'I', 'O', 'U']\n"
     ]
    }
   ],
   "source": [
    "#This is how one can join lists\n",
    "#A list mist be in quotes(\"\") unless it is a number as seen below\n",
    "\n",
    "myFirstlist = [20,30,40,50,60]\n",
    "mySecondlist = [\"A\",\"E\",\"I\",\"O\",\"U\"]\n",
    "myThirdlist = myFirstlist + mySecondlist\n",
    "\n",
    "print(myThirdlist)\n"
   ]
  },
  {
   "cell_type": "code",
   "execution_count": 1,
   "id": "388ccd9c",
   "metadata": {},
   "outputs": [
    {
     "name": "stdout",
     "output_type": "stream",
     "text": [
      "['sura yako', 'lazizi', 'sober', 'mama papa']\n"
     ]
    }
   ],
   "source": [
    "#Sautisol holds that list/the songs they have sang\n",
    "#alikiba has featured in those songs\n",
    "#what is seen in this code is copying\n",
    "#List is the command sed for copying\n",
    "\n",
    "sautiSol = [\"sura yako\",\"lazizi\",\"sober\",\"mama papa\"]\n",
    "aliKiba = list(sautiSol)\n",
    "print(sautiSol)"
   ]
  },
  {
   "cell_type": "code",
   "execution_count": 2,
   "id": "519e57a3",
   "metadata": {},
   "outputs": [
    {
     "name": "stdout",
     "output_type": "stream",
     "text": [
      "['sura yako', 'lazizi', 'sober', 'mama papa']\n"
     ]
    }
   ],
   "source": [
    "print(aliKiba)\n"
   ]
  },
  {
   "cell_type": "code",
   "execution_count": 5,
   "id": "3e604593",
   "metadata": {},
   "outputs": [
    {
     "name": "stdout",
     "output_type": "stream",
     "text": [
      "['sura yako', 'lazizi', 'sober', 'mama papa']\n"
     ]
    }
   ],
   "source": [
    "#copying can also be called out using the tab command then copy\n",
    "sautiSol = [\"sura yako\",\"lazizi\",\"sober\",\"mama papa\"]\n",
    "aliKiba = sautiSol.copy()\n",
    "print(sautiSol)"
   ]
  },
  {
   "cell_type": "code",
   "execution_count": 6,
   "id": "913d1e11",
   "metadata": {},
   "outputs": [
    {
     "name": "stdout",
     "output_type": "stream",
     "text": [
      "['sura yako', 'lazizi', 'sober', 'mama papa']\n"
     ]
    }
   ],
   "source": [
    "print(aliKiba)"
   ]
  },
  {
   "cell_type": "code",
   "execution_count": 8,
   "id": "afccbbf0",
   "metadata": {},
   "outputs": [
    {
     "name": "stdout",
     "output_type": "stream",
     "text": [
      "('nairobi', 'mombasa', 'kisumu', 'nakuru')\n"
     ]
    }
   ],
   "source": [
    "#a list has angle brackets and a tuple has smooth brackets\n",
    "myTuple = ('nairobi','mombasa','kisumu','nakuru')\n",
    "print(myTuple)"
   ]
  },
  {
   "cell_type": "code",
   "execution_count": 9,
   "id": "7d353527",
   "metadata": {},
   "outputs": [
    {
     "name": "stdout",
     "output_type": "stream",
     "text": [
      "<class 'tuple'>\n"
     ]
    }
   ],
   "source": [
    "print(type(myTuple))"
   ]
  },
  {
   "cell_type": "code",
   "execution_count": 10,
   "id": "3762b612",
   "metadata": {},
   "outputs": [
    {
     "name": "stdout",
     "output_type": "stream",
     "text": [
      "4\n"
     ]
    }
   ],
   "source": [
    "print(len(myTuple))"
   ]
  },
  {
   "cell_type": "code",
   "execution_count": 11,
   "id": "e3ce6c91",
   "metadata": {},
   "outputs": [
    {
     "name": "stdout",
     "output_type": "stream",
     "text": [
      "kisumu\n"
     ]
    }
   ],
   "source": [
    "print(myTuple[2])"
   ]
  },
  {
   "cell_type": "code",
   "execution_count": 12,
   "id": "58000afe",
   "metadata": {},
   "outputs": [
    {
     "name": "stdout",
     "output_type": "stream",
     "text": [
      "('nairobi', 'mombasa', 'kisumu', 'nakuru', 'kajiado')\n"
     ]
    }
   ],
   "source": [
    "#this is how you append a tuple\n",
    "#Kindly note that you have to change the tuple to a list, add then change back into a tuple\n",
    "\n",
    "metropolitanAreas = list(myTuple)\n",
    "metropolitanAreas.append('kajiado')\n",
    "myTuple = tuple(metropolitanAreas)\n",
    "\n",
    "print(myTuple)"
   ]
  },
  {
   "cell_type": "code",
   "execution_count": 13,
   "id": "b27adfbb",
   "metadata": {},
   "outputs": [
    {
     "name": "stdout",
     "output_type": "stream",
     "text": [
      "('nairobi', 'mombasa', 'kisumu', 'nakuru')\n"
     ]
    }
   ],
   "source": [
    "#Similarly if you want to remove something from a tuple, you have to change the tuple to a list, add then change\n",
    "metropolitanAreas = list(myTuple)\n",
    "metropolitanAreas.remove('kajiado')\n",
    "myTuple = tuple(metropolitanAreas)\n",
    "\n",
    "print(myTuple)"
   ]
  },
  {
   "cell_type": "code",
   "execution_count": 15,
   "id": "2cacbae5",
   "metadata": {},
   "outputs": [
    {
     "name": "stdout",
     "output_type": "stream",
     "text": [
      "{'Westlands', 'Lavington', 'Kilimani', 'Kileleshwa'}\n"
     ]
    }
   ],
   "source": [
    "#this is a set\n",
    "#similar to a list or tuple but uses {}\n",
    "#used to store things that are not in order\n",
    "myPlace = {'Kileleshwa','Westlands','Kilimani','Lavington'}\n",
    "print(myPlace)"
   ]
  },
  {
   "cell_type": "code",
   "execution_count": 17,
   "id": "15895ee8",
   "metadata": {},
   "outputs": [
    {
     "name": "stdout",
     "output_type": "stream",
     "text": [
      "<class 'set'>\n"
     ]
    }
   ],
   "source": [
    "print(type(myPlace))"
   ]
  },
  {
   "cell_type": "code",
   "execution_count": 25,
   "id": "fd2a9eb4",
   "metadata": {},
   "outputs": [
    {
     "name": "stdout",
     "output_type": "stream",
     "text": [
      "{'brand': 'HP Elite', 'RAM': '8GB', 'storage': '256GB', 'storage type': 'SSD'}\n",
      "<class 'dict'>\n"
     ]
    }
   ],
   "source": [
    "#this is a dictionary\n",
    "#stores things in keys and value(\"\":\"\",) \n",
    "#we use the set brackets\n",
    "laptop = {\n",
    "    \"brand\":\"HP Elite\",\n",
    "    \"RAM\":\"8GB\",\n",
    "    \"storage\":\"256GB\",\n",
    "    \"storage type\":\"SSD\"   \n",
    "}\n",
    "print(laptop)\n",
    "print(type(laptop))"
   ]
  },
  {
   "cell_type": "code",
   "execution_count": 26,
   "id": "226e2f00",
   "metadata": {},
   "outputs": [
    {
     "name": "stdout",
     "output_type": "stream",
     "text": [
      "SSD\n"
     ]
    }
   ],
   "source": [
    "#how we access a dictionary\n",
    "#this happens when we wan tot find out the vale of the key\n",
    "print(laptop[\"storage type\"])"
   ]
  },
  {
   "cell_type": "code",
   "execution_count": 28,
   "id": "0654cabd",
   "metadata": {},
   "outputs": [
    {
     "name": "stdout",
     "output_type": "stream",
     "text": [
      "{'brand': 'HP Elite', 'RAM': '8GB', 'storage': '256GB', 'storage type': 'SSD', 'colour': 'rose gold'}\n"
     ]
    }
   ],
   "source": [
    "#when you want to add items into the dictionary\n",
    "laptop[\"colour\"] = \"rose gold\"\n",
    "print(laptop)"
   ]
  },
  {
   "cell_type": "code",
   "execution_count": 29,
   "id": "0235bcb2",
   "metadata": {},
   "outputs": [
    {
     "name": "stdout",
     "output_type": "stream",
     "text": [
      "{'brand': 'HP Elite', 'RAM': '8GB', 'storage': '256GB', 'storage type': 'SSD', 'colour': 'rose gold', 'battery': '12'}\n"
     ]
    }
   ],
   "source": [
    "#this is the longer version of adding an item into a dictionary\n",
    "laptop.update({\"battery\":\"12\"})\n",
    "print(laptop)"
   ]
  },
  {
   "cell_type": "code",
   "execution_count": 33,
   "id": "4398c893",
   "metadata": {},
   "outputs": [
    {
     "name": "stdout",
     "output_type": "stream",
     "text": [
      "{'brand': 'HP Elite', 'RAM': '8GB', 'storage': '256GB', 'storage type': 'SSD', 'colour': 'rose gold'}\n"
     ]
    }
   ],
   "source": [
    "#pop command is used to remove an item from a dictionary\n",
    "laptop.pop(\"battery\")\n",
    "print(laptop)"
   ]
  },
  {
   "cell_type": "code",
   "execution_count": 1,
   "id": "62eba650",
   "metadata": {},
   "outputs": [],
   "source": [
    "#a class is a foundation which helps one manipulate data in this case dog\n",
    "#def helps us define the functions/methods inside a class\n",
    "#init used to define further\n",
    "\n",
    "class dog:\n",
    "    #species in this case is a class attribute/characteristic\n",
    "    species = \"canis familiaris\"\n",
    "    \n",
    "    def __init__(self, name, age):\n",
    "        self.name = name\n",
    "        self.age = age"
   ]
  },
  {
   "cell_type": "code",
   "execution_count": 7,
   "id": "8a3639ce",
   "metadata": {},
   "outputs": [
    {
     "data": {
      "text/plain": [
       "'bosco'"
      ]
     },
     "execution_count": 7,
     "metadata": {},
     "output_type": "execute_result"
    }
   ],
   "source": [
    "#this is an instace of the class dog and the variable bosco holds the data af the age and the name of the class characters\n",
    "#instace can also mean recalling the class in order to use it\n",
    "#we can not only instanciate a clas but a funtion as well\n",
    "\n",
    "bosco = dog(\"bosco\", 10) \n",
    "\n",
    "bosco.name"
   ]
  },
  {
   "cell_type": "code",
   "execution_count": 8,
   "id": "ab2ab0c8",
   "metadata": {},
   "outputs": [
    {
     "data": {
      "text/plain": [
       "10"
      ]
     },
     "execution_count": 8,
     "metadata": {},
     "output_type": "execute_result"
    }
   ],
   "source": [
    "bosco.age"
   ]
  },
  {
   "cell_type": "code",
   "execution_count": 9,
   "id": "8f6b3569",
   "metadata": {},
   "outputs": [
    {
     "name": "stdout",
     "output_type": "stream",
     "text": [
      "bosco\n",
      "10\n"
     ]
    }
   ],
   "source": [
    "print(bosco.name)\n",
    "print(bosco.age)"
   ]
  },
  {
   "cell_type": "code",
   "execution_count": 10,
   "id": "b0b7e61b",
   "metadata": {},
   "outputs": [
    {
     "name": "stdout",
     "output_type": "stream",
     "text": [
      "snookie 18\n"
     ]
    }
   ],
   "source": [
    "snookie = dog(\"snookie\", 18)\n",
    "\n",
    "print(snookie.name, snookie.age)"
   ]
  },
  {
   "cell_type": "code",
   "execution_count": 6,
   "id": "a4381fad",
   "metadata": {},
   "outputs": [
    {
     "data": {
      "text/plain": [
       "'canis familiaris'"
      ]
     },
     "execution_count": 6,
     "metadata": {},
     "output_type": "execute_result"
    }
   ],
   "source": [
    "snookie.species"
   ]
  },
  {
   "cell_type": "code",
   "execution_count": 1,
   "id": "14dc506f",
   "metadata": {},
   "outputs": [],
   "source": [
    "class cars:\n",
    "    def __init__(self, brand, engine, speed, colour, cc):\n",
    "        self.brand = brand\n",
    "        self.engine = engine\n",
    "        self.speed = speed\n",
    "        self.colour = colour\n",
    "        self.cc = cc\n",
    "        "
   ]
  },
  {
   "cell_type": "code",
   "execution_count": 3,
   "id": "e2c44322",
   "metadata": {},
   "outputs": [
    {
     "name": "stdout",
     "output_type": "stream",
     "text": [
      "rangerover v-8 155 mph rosegold 2997\n"
     ]
    }
   ],
   "source": [
    "car = cars(\"rangerover\",\"v-8\",\"155 mph\",\"rosegold\",\"2997\")\n",
    "print(car.brand, car.engine,car.speed,car.colour, car.cc)"
   ]
  },
  {
   "cell_type": "code",
   "execution_count": 13,
   "id": "a655be89",
   "metadata": {},
   "outputs": [],
   "source": [
    "class dog:\n",
    "    \n",
    "    #species in this case is a class attribute/characteristic\n",
    "    #we use f to wrap a strinf and the cali brackets to reference something inorder to make it a sentence\n",
    "    species = \"canis familiaris\"\n",
    "    \n",
    "    def __init__(self, name, age):\n",
    "        self.name = name\n",
    "        self.age = age\n",
    "        \n",
    "        #this is an instance method\n",
    "    def description(self):\n",
    "        return f\"{self.name} is {self.age} years old\"\n",
    "    \n",
    "        #this is another instance method\n",
    "    def speak(self,sound):\n",
    "        return f\"{self.name} says {sound}\""
   ]
  },
  {
   "cell_type": "code",
   "execution_count": 14,
   "id": "4c1dab3c",
   "metadata": {},
   "outputs": [],
   "source": [
    "bosco = dog(\"Bosco\", 9)"
   ]
  },
  {
   "cell_type": "code",
   "execution_count": 15,
   "id": "1cf2d0aa",
   "metadata": {},
   "outputs": [
    {
     "data": {
      "text/plain": [
       "'Bosco is 9 years old'"
      ]
     },
     "execution_count": 15,
     "metadata": {},
     "output_type": "execute_result"
    }
   ],
   "source": [
    "#here we have instanciated a function 'description'\n",
    "bosco.description()"
   ]
  },
  {
   "cell_type": "code",
   "execution_count": 16,
   "id": "559fb7f4",
   "metadata": {},
   "outputs": [
    {
     "data": {
      "text/plain": [
       "'Bosco says Woof'"
      ]
     },
     "execution_count": 16,
     "metadata": {},
     "output_type": "execute_result"
    }
   ],
   "source": [
    "bosco.speak(\"Woof\")"
   ]
  },
  {
   "cell_type": "code",
   "execution_count": 17,
   "id": "b42e3ab1",
   "metadata": {},
   "outputs": [],
   "source": [
    "class building:\n",
    "    def __init__(self, floor_name, floor_use, floor_number):\n",
    "        self.floor_name = floor_name\n",
    "        self.floor_use = floor_use\n",
    "        self.floor_number = floor_number\n",
    "\n"
   ]
  },
  {
   "cell_type": "code",
   "execution_count": 18,
   "id": "01529e3a",
   "metadata": {},
   "outputs": [],
   "source": [
    "class building:\n",
    "    def __init__(self, floor_name, floor_use, floor_number):\n",
    "        self.floor_name = floor_name\n",
    "        self.floor_use = floor_use\n",
    "        self.floor_number = floor_number\n",
    "        \n",
    "    def description(self):\n",
    "        return f\"{self.floor_name} is located in Paramoun Plaza and hosts the{self.floor_use}\"     "
   ]
  },
  {
   "cell_type": "code",
   "execution_count": 19,
   "id": "440c7779",
   "metadata": {},
   "outputs": [],
   "source": [
    "#codes check from top to bottom\n",
    "#what was contained in this cell was typed before the above cell but had to be carried down\n",
    "floor1 = building(\"floor1\",\"buildings management\",1)\n",
    "floor2 = building(\"floor2\",\"law firms and microfinance\",2)\n",
    "floor3 = building(\"floor3\",\"ubunifu college\",3)"
   ]
  },
  {
   "cell_type": "code",
   "execution_count": 20,
   "id": "3000bccc",
   "metadata": {},
   "outputs": [
    {
     "data": {
      "text/plain": [
       "'floor1 is located in Paramoun Plaza and hosts thebuildings management'"
      ]
     },
     "execution_count": 20,
     "metadata": {},
     "output_type": "execute_result"
    }
   ],
   "source": [
    "floor1.description()"
   ]
  },
  {
   "cell_type": "code",
   "execution_count": 21,
   "id": "17a3a0ba",
   "metadata": {},
   "outputs": [],
   "source": [
    "\n",
    "bosco = dog(\"bosco\", 10)\n",
    "wiper = dog(\"wiper\",9)\n",
    "jubilee = dog(\"jubilee\",13)\n",
    "osama = dog(\"osama\",14)"
   ]
  },
  {
   "cell_type": "code",
   "execution_count": 22,
   "id": "f2d40348",
   "metadata": {},
   "outputs": [
    {
     "data": {
      "text/plain": [
       "'osama is 14 years old'"
      ]
     },
     "execution_count": 22,
     "metadata": {},
     "output_type": "execute_result"
    }
   ],
   "source": [
    "osama.description()"
   ]
  },
  {
   "cell_type": "code",
   "execution_count": 24,
   "id": "bed9b902",
   "metadata": {},
   "outputs": [],
   "source": [
    "#how we create sub classes. A class withing a class\n",
    "#parent class and children classes\n",
    "#the super command is used to access the members inside this class\n",
    "#this is a sub class of class dog\n",
    "class osama(dog):\n",
    "    def speak(self, sound=\"bomb\"):\n",
    "        return super().speak(sound)\n",
    "    \n"
   ]
  },
  {
   "cell_type": "code",
   "execution_count": null,
   "id": "7fe1b6ae",
   "metadata": {},
   "outputs": [],
   "source": []
  }
 ],
 "metadata": {
  "kernelspec": {
   "display_name": "Python 3 (ipykernel)",
   "language": "python",
   "name": "python3"
  },
  "language_info": {
   "codemirror_mode": {
    "name": "ipython",
    "version": 3
   },
   "file_extension": ".py",
   "mimetype": "text/x-python",
   "name": "python",
   "nbconvert_exporter": "python",
   "pygments_lexer": "ipython3",
   "version": "3.9.12"
  }
 },
 "nbformat": 4,
 "nbformat_minor": 5
}
