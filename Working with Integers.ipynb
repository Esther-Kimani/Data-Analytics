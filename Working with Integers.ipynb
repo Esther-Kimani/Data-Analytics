{
 "cells": [
  {
   "cell_type": "code",
   "execution_count": null,
   "id": "c19dca47",
   "metadata": {},
   "outputs": [],
   "source": [
    "#PROBLEM STATEMENT\n",
    "\n",
    "#Uber charges 100 bob for the first one km and 30bob for every km afterwards. Uber takes 20% of the income per trip.\n",
    "#Jason travelled for 58km. Find out how much uber made for that trip"
   ]
  },
  {
   "cell_type": "code",
   "execution_count": 2,
   "id": "d209b8e2",
   "metadata": {},
   "outputs": [],
   "source": [
    "firstOnekm = 100\n",
    "perKmafterwards = 30\n",
    "distance = 58"
   ]
  },
  {
   "cell_type": "code",
   "execution_count": 3,
   "id": "8e972f30",
   "metadata": {},
   "outputs": [],
   "source": [
    "# calculating the amount\n",
    "\n",
    "amount =(distance - 1) *30"
   ]
  },
  {
   "cell_type": "code",
   "execution_count": 4,
   "id": "c3d7a739",
   "metadata": {},
   "outputs": [],
   "source": [
    "# calculating the grandTotal\n",
    "\n",
    "grandTotal = (amount + 100)"
   ]
  },
  {
   "cell_type": "code",
   "execution_count": 5,
   "id": "31fb1c33",
   "metadata": {},
   "outputs": [
    {
     "name": "stdout",
     "output_type": "stream",
     "text": [
      "1810\n"
     ]
    }
   ],
   "source": [
    "print(grandTotal)"
   ]
  },
  {
   "cell_type": "code",
   "execution_count": 6,
   "id": "3266a105",
   "metadata": {},
   "outputs": [
    {
     "name": "stdout",
     "output_type": "stream",
     "text": [
      "362.0\n"
     ]
    }
   ],
   "source": [
    "# calculating ubers cut/commisiion\n",
    "# commission is 20%\n",
    "\n",
    "commission = (0.2 * grandTotal)\n",
    "print(commission)"
   ]
  },
  {
   "cell_type": "code",
   "execution_count": null,
   "id": "f9f4be5c",
   "metadata": {},
   "outputs": [],
   "source": []
  }
 ],
 "metadata": {
  "kernelspec": {
   "display_name": "Python 3 (ipykernel)",
   "language": "python",
   "name": "python3"
  },
  "language_info": {
   "codemirror_mode": {
    "name": "ipython",
    "version": 3
   },
   "file_extension": ".py",
   "mimetype": "text/x-python",
   "name": "python",
   "nbconvert_exporter": "python",
   "pygments_lexer": "ipython3",
   "version": "3.9.12"
  }
 },
 "nbformat": 4,
 "nbformat_minor": 5
}
