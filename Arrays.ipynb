{
 "cells": [
  {
   "cell_type": "code",
   "execution_count": 1,
   "id": "c1bf56b3",
   "metadata": {},
   "outputs": [],
   "source": [
    "#indexing/counting in a code starts from zero\n",
    "\n",
    "daysOfTheWeek = [\"Sunday\", \"Monday\", \"Tuesday\", \"Wednesday\", \"Thursday\", \"Friday\", \"Saturday\"]\n"
   ]
  },
  {
   "cell_type": "code",
   "execution_count": 2,
   "id": "19dc71f3",
   "metadata": {},
   "outputs": [
    {
     "name": "stdout",
     "output_type": "stream",
     "text": [
      "Friday\n"
     ]
    }
   ],
   "source": [
    "#print the 5th day of the week\n",
    "print(daysOfTheWeek[5])"
   ]
  },
  {
   "cell_type": "code",
   "execution_count": 3,
   "id": "9dd8f346",
   "metadata": {},
   "outputs": [
    {
     "data": {
      "text/plain": [
       "\"Kimani's hardware uses excel to keep sales throughout the \\nThe data has a date column using the format 01/01/2000.\\nYou have been contracted to;\\n\\n1 generate sales data for all the months using excel\\n2 get real time sales information for the current date, week, month and previous months\""
      ]
     },
     "execution_count": 3,
     "metadata": {},
     "output_type": "execute_result"
    }
   ],
   "source": [
    "'''Kimani's hardware uses excel to keep sales throughout the \n",
    "The data has a date column using the format 01/01/2000.\n",
    "You have been contracted to;\n",
    "\n",
    "1 generate sales data for all the months using excel\n",
    "2 get real time sales information for the current date, week, month and previous months'''"
   ]
  },
  {
   "cell_type": "code",
   "execution_count": 14,
   "id": "f0c62593",
   "metadata": {},
   "outputs": [
    {
     "name": "stdout",
     "output_type": "stream",
     "text": [
      "Today's date is: 2023-01-13\n"
     ]
    }
   ],
   "source": [
    "#if you want year add (.year) and so on for the month as well\n",
    "\n",
    "from datetime import date\n",
    "\n",
    "today = date.today()\n",
    "\n",
    "print(\"Today's date is:\", today)"
   ]
  },
  {
   "cell_type": "code",
   "execution_count": 15,
   "id": "f366dab2",
   "metadata": {},
   "outputs": [
    {
     "name": "stdout",
     "output_type": "stream",
     "text": [
      "1\n"
     ]
    }
   ],
   "source": [
    "#month array\n",
    "months = [\"January\", \"February\", \"March\", \"April\", \"May\", \"June\", \"July\", \"August\", \"September\", \"October\", \"Novermber\", \"December\"]\n",
    "todaysMonth = today.month\n",
    "print(todaysMonth)"
   ]
  },
  {
   "cell_type": "code",
   "execution_count": 17,
   "id": "0c6a1a55",
   "metadata": {},
   "outputs": [
    {
     "name": "stdout",
     "output_type": "stream",
     "text": [
      "January\n"
     ]
    }
   ],
   "source": [
    "print(months[0])"
   ]
  },
  {
   "cell_type": "code",
   "execution_count": 21,
   "id": "56dcf536",
   "metadata": {},
   "outputs": [
    {
     "name": "stdout",
     "output_type": "stream",
     "text": [
      "January\n"
     ]
    }
   ],
   "source": [
    "#to get todays month without hard coding \n",
    "\n",
    "getMonth = todaysMonth - 1\n",
    "print(months[getMonth])"
   ]
  },
  {
   "cell_type": "code",
   "execution_count": null,
   "id": "faf7c6c7",
   "metadata": {},
   "outputs": [],
   "source": []
  }
 ],
 "metadata": {
  "kernelspec": {
   "display_name": "Python 3 (ipykernel)",
   "language": "python",
   "name": "python3"
  },
  "language_info": {
   "codemirror_mode": {
    "name": "ipython",
    "version": 3
   },
   "file_extension": ".py",
   "mimetype": "text/x-python",
   "name": "python",
   "nbconvert_exporter": "python",
   "pygments_lexer": "ipython3",
   "version": "3.9.12"
  }
 },
 "nbformat": 4,
 "nbformat_minor": 5
}
