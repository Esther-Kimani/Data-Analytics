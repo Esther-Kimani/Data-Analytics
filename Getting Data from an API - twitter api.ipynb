{
 "cells": [
  {
   "cell_type": "code",
   "execution_count": null,
   "id": "c993fdc8",
   "metadata": {},
   "outputs": [],
   "source": [
    "#problem statement\n",
    "\n",
    "'''We are internet service provider company. Time to time we face outages that cause outrage on social media. \n",
    "This afects the sakes and makes some clients drop.\n",
    "Write a sript that willanalyze what people are saying about us and do a basic \n",
    "predictive model that can forecast our sales performance.\n",
    "\n",
    "Use;\n",
    "    1. Sentiment Analysis on the hashtags to understand user sentiment\n",
    "    \n",
    "    \n",
    "    #ZUKU\n",
    "    100\n",
    "    \n",
    "    Positive sentiments\n",
    "    Negative sentiments\n",
    "    \n",
    "    Visualize the information on a graph\n",
    "   '''\n",
    "    "
   ]
  },
  {
   "cell_type": "code",
   "execution_count": null,
   "id": "5f66a631",
   "metadata": {},
   "outputs": [],
   "source": [
    "from textblob import TextBlob\n",
    "import sys\n",
    "import tweepy\n",
    "import matplotlib.pyplot as plt\n",
    "import pandas as pd\n",
    "import numpy as np\n",
    "import os\n",
    "import nltk\n",
    "import pycountry\n",
    "import re\n",
    "import string\n",
    "from wordcloud import WordCloud, STOPWORDS\n",
    "from PIL import Image\n",
    "from nltk.sentiment.vader import SentimentIntensityAnalyzer\n",
    "from langdetect import detect\n",
    "from nltk.stem import SnowballStemmer\n",
    "from nltk.sentiment.vader import SentimentIntensityAnalyzer\n",
    "from sklearn.feature_extraction.text import CountVectorizer\n",
    "from tweepy import OAuthHandler"
   ]
  },
  {
   "cell_type": "code",
   "execution_count": null,
   "id": "1fae7e3e",
   "metadata": {},
   "outputs": [],
   "source": [
    "consumer_key = 'Qi1xiPAKniZCX69S6ELwB3tgd'\n",
    "consumer_secret = 'GX1ERJp3R6yRgy16r6w6MPiePDWtu17sEYFen3ZKc7BVwK7wQS'\n",
    "access_token = '979348758075985920-ihiNHRzal35OuJ3jqklzhpjm0WjwLZa'\n",
    "access_secret = 'dg2bJpSrGeq0aOzraBdQBEZ2tnFOGGgjBZPY5y6G0MQiB'"
   ]
  },
  {
   "cell_type": "code",
   "execution_count": null,
   "id": "c935412b",
   "metadata": {},
   "outputs": [],
   "source": [
    "auth = OAuthHandler(consumer_key,consumer_secret)\n",
    "auth.set_access_token(access_token,access_secret)\n",
    "\n",
    "api = tweepy.API(auth)"
   ]
  },
  {
   "cell_type": "code",
   "execution_count": 14,
   "id": "08b9d172",
   "metadata": {},
   "outputs": [
    {
     "name": "stdout",
     "output_type": "stream",
     "text": [
      "Please enter keyword or hashtag to search: zuku\n",
      "Please enter how many tweets to analyze: 100\n",
      "RT @hemps_o: This photo explains how some people make poor decisions in life.\n",
      "\n",
      "The lion chose sex over food while the zebra chose Entertain…\n",
      "My block list is full of fake Zuku accounts\n",
      "RT @MwendiaJnr: Kenyans will complain about bad services they get from Zuku and  Co-operative Bank but majority of them will not stop using…\n",
      "What is wrong with Zuku customer care services. I paid for internet 2 days ago after they disconnected . Up to now… https://t.co/U8P9vNqRzF\n",
      "RT @AbrahamBanadawa: Even Kenyans are tired of Zuku. @solomonking  I think we need a poll on which ISP to jump to\n",
      "@Stan_Subru @kamonjomaina worse ukue unatumia zuku internet tu google.\n",
      "- Zuku down countrywide once again!\n",
      "- Hi Kenya yetu bana!🤣\n",
      "RT @erycoyugi: What ever the #LGBTQ is doing behind close door,that’s their BS n they should keep it to themselves\n",
      "\n",
      "Edwin Chiloba | Jackton…\n",
      "Even Kenyans are tired of Zuku. @solomonking  I think we need a poll on which ISP to jump to https://t.co/IVgurHk0mD\n",
      "Zuku is unbearable with horrible #customerexperience @EliudOwalo\n",
      "Seems like in a slight change of weather zuku will go to its original bad behaviour 😭\n",
      "RT @erycoyugi: Wewe the Rainbow people aka nyash lovers are the most violent creatures you can ever meet #LGBTQ\n",
      "\n",
      "Edwin Chiloba | Jackton Od…\n",
      "Will Zuku still exist in 3-5 years? \n",
      "\n",
      "Every few months there's a mass exodus. https://t.co/JYCTpJZQPb\n",
      "RT @wangechikenya: Zuku needs to refund everybody for the downtime this month. I can’t pay and have little to no connection everyday @ZukuA…\n",
      "Zuku is a piece of shit\n",
      "RT @hemps_o: This photo explains how some people make poor decisions in life.\n",
      "\n",
      "The lion chose sex over food while the zebra chose Entertain…\n"
     ]
    },
    {
     "data": {
      "image/png": "[encoded data removed]",
      "text/plain": [
       "<Figure size 640x480 with 1 Axes>"
      ]
     },
     "metadata": {},
     "output_type": "display_data"
    }
   ],
   "source": [
    "def percentage(part,whole):\n",
    "    return 100 * float(part)/float(whole) \n",
    "\n",
    "keyword = input(\"Please enter keyword or hashtag to search: \")\n",
    "noOfTweet = int(input (\"Please enter how many tweets to analyze: \"))\n",
    "\n",
    "tweets = tweepy.Cursor(api.search_tweets, q=keyword).items(noOfTweet)\n",
    "\n",
    "positive  = 0\n",
    "negative = 0\n",
    "neutral = 0\n",
    "polarity = 0\n",
    "\n",
    "for tweet in tweets:\n",
    "    #print(tweet.text)\n",
    "    analysis = TextBlob(tweet.text)\n",
    "    polarity += analysis.sentiment.polarity\n",
    "    \n",
    "    if (analysis.sentiment.polarity == 0):\n",
    "        neutral += 1\n",
    "        #print(analysis)\n",
    "    \n",
    "    elif (analysis.sentiment.polarity < 0.00):\n",
    "        negative += 1\n",
    "        print(analysis)\n",
    "    \n",
    "    elif (analysis.sentiment.polarity > 0.00):\n",
    "        positive += 1\n",
    "        #print(analysis)\n",
    "\n",
    "positive = percentage(positive, noOfTweet)\n",
    "negative = percentage(negative, noOfTweet)\n",
    "neutral = percentage(neutral, noOfTweet)\n",
    "polarity = percentage(polarity, noOfTweet)\n",
    "\n",
    "positive = format(positive, '.1f')\n",
    "negative = format(negative, '.1f')\n",
    "neutral = format(neutral, '.1f')\n",
    "\n",
    "#Creating PieCart\n",
    "\n",
    "labels = ['Positive ['+str(positive)+'%]' , 'Neutral ['+str(neutral)+'%]','Negative ['+str(negative)+'%]']\n",
    "sizes = [positive, neutral, negative]\n",
    "colors = ['yellowgreen', 'gold','red']\n",
    "\n",
    "patches, texts = plt.pie(sizes,colors=colors, startangle=90)\n",
    "plt.style.use('default')\n",
    "plt.legend(patches, labels, loc='best')\n",
    "plt.title(\"Sentiment Analysis Result for keyword=  \"+keyword+\"\" )\n",
    "plt.axis('equal')\n",
    "plt.show()"
   ]
  },
  {
   "cell_type": "code",
   "execution_count": null,
   "id": "8734825e",
   "metadata": {},
   "outputs": [],
   "source": []
  }
 ],
 "metadata": {
  "kernelspec": {
   "display_name": "Python 3 (ipykernel)",
   "language": "python",
   "name": "python3"
  },
  "language_info": {
   "codemirror_mode": {
    "name": "ipython",
    "version": 3
   },
   "file_extension": ".py",
   "mimetype": "text/x-python",
   "name": "python",
   "nbconvert_exporter": "python",
   "pygments_lexer": "ipython3",
   "version": "3.9.12"
  }
 },
 "nbformat": 4,
 "nbformat_minor": 5
}
