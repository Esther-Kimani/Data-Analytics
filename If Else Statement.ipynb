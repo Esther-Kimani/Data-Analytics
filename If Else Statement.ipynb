{
 "cells": [
  {
   "cell_type": "code",
   "execution_count": 1,
   "id": "516e92f9",
   "metadata": {},
   "outputs": [
    {
     "data": {
      "text/plain": [
       "'Jumia is giving out discounts this weekend in form of promocods as follows;\\n\\n1 KARIBU // will give you a 5% discount of all your purchses\\n2 NAIROBI // will give you a 15% discount of all your purchases\\n\\nJames spent 5400 and usd NAIROBI as the promocode. Find olut how much discount he was given'"
      ]
     },
     "execution_count": 1,
     "metadata": {},
     "output_type": "execute_result"
    }
   ],
   "source": [
    "\"\"\"Jumia is giving out discounts this weekend in form of promocods as follows;\n",
    "\n",
    "1 KARIBU // will give you a 5% discount of all your purchses\n",
    "2 NAIROBI // will give you a 15% discount of all your purchases\n",
    "\n",
    "James spent 5400 and usd NAIROBI as the promocode. Find olut how much discount he was given\"\"\""
   ]
  },
  {
   "cell_type": "code",
   "execution_count": 2,
   "id": "5238addf",
   "metadata": {},
   "outputs": [],
   "source": [
    "discountOne = \"KARIBU\" #5%\n",
    "discountTwo = \"NAIROBI\" #15%\n",
    "spending = 5400\n",
    "promocodeUsed = \"NAIROBI\" #15%"
   ]
  },
  {
   "cell_type": "code",
   "execution_count": 6,
   "id": "8ea266fc",
   "metadata": {},
   "outputs": [
    {
     "name": "stdout",
     "output_type": "stream",
     "text": [
      "810.0\n"
     ]
    }
   ],
   "source": [
    "# == (DOUBLE EQUALS SIGN) is for comparison\n",
    "#else when the code hasn't met either conditions\n",
    "\n",
    "if promocodeUsed == discountOne:\n",
    "    discount = 0.05 * spending\n",
    "    print(discount)\n",
    "    \n",
    "elif promocodeUsed == discountTwo:\n",
    "    discount = 0.15 * spending\n",
    "    print(discount)\n",
    "    \n",
    "else:\n",
    "    print(\"Your promotion is invalid\")\n",
    "    "
   ]
  },
  {
   "cell_type": "code",
   "execution_count": null,
   "id": "37eb532b",
   "metadata": {},
   "outputs": [],
   "source": [
    "\n"
   ]
  }
 ],
 "metadata": {
  "kernelspec": {
   "display_name": "Python 3 (ipykernel)",
   "language": "python",
   "name": "python3"
  },
  "language_info": {
   "codemirror_mode": {
    "name": "ipython",
    "version": 3
   },
   "file_extension": ".py",
   "mimetype": "text/x-python",
   "name": "python",
   "nbconvert_exporter": "python",
   "pygments_lexer": "ipython3",
   "version": "3.9.12"
  }
 },
 "nbformat": 4,
 "nbformat_minor": 5
}
